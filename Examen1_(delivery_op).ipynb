{
  "nbformat": 4,
  "nbformat_minor": 0,
  "metadata": {
    "colab": {
      "provenance": [],
      "authorship_tag": "ABX9TyO3KlLfV3JLW4BSDAz/rw8a",
      "include_colab_link": true
    },
    "kernelspec": {
      "name": "python3",
      "display_name": "Python 3"
    },
    "language_info": {
      "name": "python"
    }
  },
  "cells": [
    {
      "cell_type": "markdown",
      "metadata": {
        "id": "view-in-github",
        "colab_type": "text"
      },
      "source": [
        "<a href=\"https://colab.research.google.com/github/IsmaRLD/Examen1/blob/main/Examen1_(delivery_op).ipynb\" target=\"_parent\"><img src=\"https://colab.research.google.com/assets/colab-badge.svg\" alt=\"Open In Colab\"/></a>"
      ]
    },
    {
      "cell_type": "code",
      "execution_count": 1,
      "metadata": {
        "id": "Zw2Kw3-0_F2V"
      },
      "outputs": [],
      "source": [
        "#Importamos las librerias pandas, numpy y matplotlib respectivamente\n",
        "import pandas as pd\n",
        "import numpy as np\n",
        "import matplotlib.pyplot as plt"
      ]
    },
    {
      "cell_type": "code",
      "source": [
        "#Cargar archivo csv desde equipo\n",
        "from google.colab import files\n",
        "files.upload()"
      ],
      "metadata": {
        "id": "lP8zbS1Z_N7i"
      },
      "execution_count": null,
      "outputs": []
    },
    {
      "cell_type": "code",
      "source": [
        "#Carga desde un archivo .csv sin indice\n",
        "Delivery= pd.read_csv('lastmile_delivery_operations_mit_lift_lab.csv')"
      ],
      "metadata": {
        "id": "pP6_yCd__XK3"
      },
      "execution_count": 9,
      "outputs": []
    },
    {
      "cell_type": "code",
      "source": [
        "#Verificamos información del Dataframe\n",
        "Delivery.info()"
      ],
      "metadata": {
        "id": "JTCUWLwg_rOw"
      },
      "execution_count": null,
      "outputs": []
    },
    {
      "cell_type": "code",
      "source": [
        "#Creamos copia del dataframe\n",
        "data1=Delivery.copy()"
      ],
      "metadata": {
        "id": "8HKziUdgNUFf"
      },
      "execution_count": 11,
      "outputs": []
    },
    {
      "cell_type": "markdown",
      "source": [
        "**Reemplazo de valores nulos**"
      ],
      "metadata": {
        "id": "ddtf9YwTCThT"
      }
    },
    {
      "cell_type": "code",
      "source": [
        "#Identificar valores nulos por columna\n",
        "valores_nulos = data1.isnull().sum()\n",
        "valores_nulos"
      ],
      "metadata": {
        "id": "kckzrTaICIgV"
      },
      "execution_count": null,
      "outputs": []
    },
    {
      "cell_type": "code",
      "source": [
        "#Utilizamos el método de colocar un string en concreto debido a que la calle es un dato muy específico como para solo poner un valor repetido\n",
        "data1[\"_title\"]=data1[\"_title\"].fillna(\"No se encontro\")"
      ],
      "metadata": {
        "id": "8m1UZ6L-CY9O"
      },
      "execution_count": 14,
      "outputs": []
    },
    {
      "cell_type": "code",
      "source": [
        "#Corroboramos valores nulos\n",
        "valores_nulos=data1.isnull().sum()\n",
        "valores_nulos"
      ],
      "metadata": {
        "id": "OPcxAr4QCoyq"
      },
      "execution_count": null,
      "outputs": []
    },
    {
      "cell_type": "code",
      "source": [
        "#Utilizamos el método de colocar un string en concreto debido a que las placas del vehiculos es un dato muy específico como para solo poner un valor repetido, ya que no se pueden repetir\n",
        "data1[\"plates\"]=data1[\"plates\"].fillna(\"No valido\")"
      ],
      "metadata": {
        "id": "5nyDIm_4Co13"
      },
      "execution_count": 18,
      "outputs": []
    },
    {
      "cell_type": "code",
      "source": [
        "#Corroboramos valores nulos\n",
        "valores_nulos=data1.isnull().sum()\n",
        "valores_nulos"
      ],
      "metadata": {
        "id": "oIIUgOcGC7bf"
      },
      "execution_count": null,
      "outputs": []
    },
    {
      "cell_type": "code",
      "source": [
        "#Utilizamos el método de colocar un string en concreto debido a que puede ocurrir que el vehiculo de reparto no tenga una empresa visible\n",
        "data1[\"company_if_visible\"]=data1[\"company_if_visible\"].fillna(\"No hay empresa\")"
      ],
      "metadata": {
        "id": "AgimEInpC7d0"
      },
      "execution_count": 22,
      "outputs": []
    },
    {
      "cell_type": "code",
      "source": [
        "#Corroboramos valores nulos\n",
        "valores_nulos=data1.isnull().sum()\n",
        "valores_nulos"
      ],
      "metadata": {
        "id": "SK1yKYbYC7gN"
      },
      "execution_count": null,
      "outputs": []
    },
    {
      "cell_type": "code",
      "source": [
        "#Utilizamos el valor de sustituir los valores nulos por la mediana ya que todos los valores son iguales\n",
        "data1[\"serving_customer\"]=data1[\"serving_customer\"].fillna(round(Delivery[\"serving_customer\"].median(),1))"
      ],
      "metadata": {
        "id": "50Bw1dM8C7je"
      },
      "execution_count": 24,
      "outputs": []
    },
    {
      "cell_type": "code",
      "source": [
        "#Corroboramos valores nulos\n",
        "valores_nulos=data1.isnull().sum()\n",
        "valores_nulos"
      ],
      "metadata": {
        "id": "1dcr2mWPDC7Y"
      },
      "execution_count": null,
      "outputs": []
    },
    {
      "cell_type": "code",
      "source": [
        "#Utilizamos el método de colocar un string en concreto debido a que puede ocurrir que no haya habido un accidente durante el reparto\n",
        "data1[\"describe_the_accident\"]=data1[\"describe_the_accident\"].fillna(\"No hubo accidente\")"
      ],
      "metadata": {
        "id": "CpwDBYOWDC9x"
      },
      "execution_count": 26,
      "outputs": []
    },
    {
      "cell_type": "code",
      "source": [
        "#Corroboramos valores nulos\n",
        "valores_nulos=data1.isnull().sum()\n",
        "valores_nulos"
      ],
      "metadata": {
        "id": "DcfruSe4DDAb"
      },
      "execution_count": null,
      "outputs": []
    },
    {
      "cell_type": "code",
      "source": [
        "#Utilizamos el método de colocar un string en concreto debido a quesolo hay dos datos para todo el dataframe, por lo que no nos conviene utilizar un metodo de redondeo por mediana o media\n",
        "data1[\"maximum_number_of_vehicles_in_the_traffic_jam\"]=data1[\"maximum_number_of_vehicles_in_the_traffic_jam\"].fillna(\"No hubo trafico durante el reparto\")"
      ],
      "metadata": {
        "id": "rHIw3NWdDDDO"
      },
      "execution_count": 28,
      "outputs": []
    },
    {
      "cell_type": "code",
      "source": [
        "#Corroboramos valores nulos\n",
        "valores_nulos=data1.isnull().sum()\n",
        "valores_nulos"
      ],
      "metadata": {
        "id": "a_qq42McDHv2"
      },
      "execution_count": null,
      "outputs": []
    },
    {
      "cell_type": "markdown",
      "source": [
        "**Reemplazo de Outliers**"
      ],
      "metadata": {
        "id": "XaGJ8CxNHaqm"
      }
    },
    {
      "cell_type": "code",
      "source": [
        "#Creamos otra copia del dataframe\n",
        "data2=data1.copy()"
      ],
      "metadata": {
        "id": "obBwVfssOoWI"
      },
      "execution_count": 30,
      "outputs": []
    },
    {
      "cell_type": "code",
      "source": [
        "#Realizamos un filtro por filas donde se incluyan unicamente los valores cuantitativos\n",
        "cuantitativas=data2.iloc[:,[12,21,22]] #filas no consecutivas\n",
        "cuantitativas"
      ],
      "metadata": {
        "id": "ukhCr93DOb1l"
      },
      "execution_count": null,
      "outputs": []
    },
    {
      "cell_type": "code",
      "source": [
        "#Realizamos un filtro por filas donde se incluyan unicamente los valores cualitativas\n",
        "cualitativas=data2.iloc[:,[0,1,2,3,4,5,6,7,8,9,10,11,13,14,15,16,17,18,19,20,23,24,25,26,27,28]] #filas no consecutivas\n",
        "cualitativas"
      ],
      "metadata": {
        "id": "QCXai22IQhob"
      },
      "execution_count": null,
      "outputs": []
    },
    {
      "cell_type": "code",
      "source": [
        "#Corroboramos valores nulos\n",
        "valores_nulos=cuantitativas.isnull().sum()\n",
        "valores_nulos"
      ],
      "metadata": {
        "id": "muS4KdfDHqmu"
      },
      "execution_count": null,
      "outputs": []
    },
    {
      "cell_type": "code",
      "source": [
        "#Aplicanmos desviación estandar para encontrar valores extremos\n",
        "y=cuantitativas\n",
        "Limite_Superior= y.mean() +3*y.std()\n",
        "Limite_Inferior= y.mean() -3*y.std()\n",
        "print(\"Limite superior permitido\", Limite_Superior)\n",
        "print(\"Limite inferior permitido\", Limite_Inferior)"
      ],
      "metadata": {
        "id": "gG4qxflbHxr_"
      },
      "execution_count": null,
      "outputs": []
    },
    {
      "cell_type": "code",
      "source": [
        "#Encontramos Outliers del Dataframe\n",
        "outliers= cuantitativas[(y>Limite_Superior)|(y<Limite_Inferior)]\n",
        "outliers"
      ],
      "metadata": {
        "id": "AJkX697NSo2k"
      },
      "execution_count": null,
      "outputs": []
    },
    {
      "cell_type": "code",
      "source": [
        "#Obtenemos datos limpios\n",
        "data3= cuantitativas[(y<=Limite_Superior)&(y>=Limite_Inferior)]\n",
        "data3"
      ],
      "metadata": {
        "id": "N9ZQqYjJS-sm"
      },
      "execution_count": null,
      "outputs": []
    },
    {
      "cell_type": "code",
      "source": [
        "#Revisamos valores atípicos (nulos) del dataframe4\n",
        "valores_nulos=data3.isnull().sum()\n",
        "valores_nulos"
      ],
      "metadata": {
        "id": "Pzk2A9tsTLX1"
      },
      "execution_count": null,
      "outputs": []
    },
    {
      "cell_type": "code",
      "source": [
        "#Reemplazamos valores atípicos (nulos) del dataframe con \"mean\"\n",
        "#Realizamos una copia del dataframe\n",
        "data_clean=data3.copy()\n",
        "data_clean=data_clean.fillna(round(data3.mean(),1))\n",
        "data_clean"
      ],
      "metadata": {
        "id": "xjlT2Q9GTRYr"
      },
      "execution_count": null,
      "outputs": []
    },
    {
      "cell_type": "code",
      "source": [
        "#Corroboramos valores nulos del dataframe LIMPIO\n",
        "valores_nulos=data_clean.isnull().sum()\n",
        "valores_nulos"
      ],
      "metadata": {
        "id": "h8dyBQlpTXfQ"
      },
      "execution_count": null,
      "outputs": []
    },
    {
      "cell_type": "code",
      "source": [
        "#Unimos las columnas cuantitativas y cualitativas en un mismo dataframe\n",
        "Datos_limpios = pd.concat([cualitativas, data_clean], axis=1)\n",
        "Datos_limpios"
      ],
      "metadata": {
        "id": "lU3qgbnJTgzp"
      },
      "execution_count": null,
      "outputs": []
    },
    {
      "cell_type": "code",
      "source": [
        "#Convertir Dataframe a CSV\n",
        "Datos_limpios.to_csv(\"Datos_limpios_Delivery_Operations.csv\")"
      ],
      "metadata": {
        "id": "rFDzRmbhTdf8"
      },
      "execution_count": 55,
      "outputs": []
    },
    {
      "cell_type": "code",
      "source": [
        "#descargar archivo filtrado en csv\n",
        "from google.colab import files\n",
        "\n",
        "files.download(\"Datos_limpios_Delivery_Operations.csv\")"
      ],
      "metadata": {
        "colab": {
          "base_uri": "https://localhost:8080/",
          "height": 17
        },
        "id": "uLoMZdhzT3vE",
        "outputId": "0bb4b040-0177-406b-c955-3ee4adaeb6c6"
      },
      "execution_count": 56,
      "outputs": [
        {
          "output_type": "display_data",
          "data": {
            "text/plain": [
              "<IPython.core.display.Javascript object>"
            ],
            "application/javascript": [
              "\n",
              "    async function download(id, filename, size) {\n",
              "      if (!google.colab.kernel.accessAllowed) {\n",
              "        return;\n",
              "      }\n",
              "      const div = document.createElement('div');\n",
              "      const label = document.createElement('label');\n",
              "      label.textContent = `Downloading \"${filename}\": `;\n",
              "      div.appendChild(label);\n",
              "      const progress = document.createElement('progress');\n",
              "      progress.max = size;\n",
              "      div.appendChild(progress);\n",
              "      document.body.appendChild(div);\n",
              "\n",
              "      const buffers = [];\n",
              "      let downloaded = 0;\n",
              "\n",
              "      const channel = await google.colab.kernel.comms.open(id);\n",
              "      // Send a message to notify the kernel that we're ready.\n",
              "      channel.send({})\n",
              "\n",
              "      for await (const message of channel.messages) {\n",
              "        // Send a message to notify the kernel that we're ready.\n",
              "        channel.send({})\n",
              "        if (message.buffers) {\n",
              "          for (const buffer of message.buffers) {\n",
              "            buffers.push(buffer);\n",
              "            downloaded += buffer.byteLength;\n",
              "            progress.value = downloaded;\n",
              "          }\n",
              "        }\n",
              "      }\n",
              "      const blob = new Blob(buffers, {type: 'application/binary'});\n",
              "      const a = document.createElement('a');\n",
              "      a.href = window.URL.createObjectURL(blob);\n",
              "      a.download = filename;\n",
              "      div.appendChild(a);\n",
              "      a.click();\n",
              "      div.remove();\n",
              "    }\n",
              "  "
            ]
          },
          "metadata": {}
        },
        {
          "output_type": "display_data",
          "data": {
            "text/plain": [
              "<IPython.core.display.Javascript object>"
            ],
            "application/javascript": [
              "download(\"download_97e712ff-5456-4b78-9998-2d4bf6e54ba9\", \"Datos_limpios_Delivery_Operations.csv\", 96274)"
            ]
          },
          "metadata": {}
        }
      ]
    }
  ]
}