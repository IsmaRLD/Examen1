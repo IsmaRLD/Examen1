{
  "nbformat": 4,
  "nbformat_minor": 0,
  "metadata": {
    "colab": {
      "provenance": [],
      "authorship_tag": "ABX9TyN4OGky6EWxU9MDoN/+QLSw",
      "include_colab_link": true
    },
    "kernelspec": {
      "name": "python3",
      "display_name": "Python 3"
    },
    "language_info": {
      "name": "python"
    }
  },
  "cells": [
    {
      "cell_type": "markdown",
      "metadata": {
        "id": "view-in-github",
        "colab_type": "text"
      },
      "source": [
        "<a href=\"https://colab.research.google.com/github/IsmaRLD/Examen1/blob/main/Examen1_(consumer).ipynb\" target=\"_parent\"><img src=\"https://colab.research.google.com/assets/colab-badge.svg\" alt=\"Open In Colab\"/></a>"
      ]
    },
    {
      "cell_type": "code",
      "execution_count": 125,
      "metadata": {
        "id": "Zw2Kw3-0_F2V"
      },
      "outputs": [],
      "source": [
        "#Importamos las librerias pandas, numpy y matplotlib respectivamente\n",
        "import pandas as pd\n",
        "import numpy as np\n",
        "import matplotlib.pyplot as plt"
      ]
    },
    {
      "cell_type": "code",
      "source": [
        "#Cargar archivo csv desde equipo\n",
        "from google.colab import files\n",
        "files.upload()"
      ],
      "metadata": {
        "id": "lP8zbS1Z_N7i"
      },
      "execution_count": null,
      "outputs": []
    },
    {
      "cell_type": "code",
      "source": [
        "#Carga desde un archivo .csv sin indice\n",
        "Consumer= pd.read_excel('consumer_mit_lift_lab.xlsx')"
      ],
      "metadata": {
        "id": "pP6_yCd__XK3"
      },
      "execution_count": 127,
      "outputs": []
    },
    {
      "cell_type": "code",
      "source": [
        "#Verificamos información del Dataframe\n",
        "Consumer.info()"
      ],
      "metadata": {
        "id": "JTCUWLwg_rOw"
      },
      "execution_count": null,
      "outputs": []
    },
    {
      "cell_type": "code",
      "source": [
        "#Creamos copia del dataframe\n",
        "data1=Consumer.copy()"
      ],
      "metadata": {
        "id": "8HKziUdgNUFf"
      },
      "execution_count": 129,
      "outputs": []
    },
    {
      "cell_type": "markdown",
      "source": [
        "**Reemplazo de valores nulos**"
      ],
      "metadata": {
        "id": "ddtf9YwTCThT"
      }
    },
    {
      "cell_type": "code",
      "source": [
        "#Identificar valores nulos por columna\n",
        "valores_nulos = data1.isnull().sum()\n",
        "valores_nulos"
      ],
      "metadata": {
        "id": "kckzrTaICIgV"
      },
      "execution_count": null,
      "outputs": []
    },
    {
      "cell_type": "code",
      "source": [
        "#Con este metodo sustituimos valores nulos por un string o un dato no numérico en concreto\n",
        "data1[\"300_did_not_find\"]=data1[\"300_did_not_find\"].fillna(\"nulos\")"
      ],
      "metadata": {
        "id": "8m1UZ6L-CY9O"
      },
      "execution_count": 131,
      "outputs": []
    },
    {
      "cell_type": "code",
      "source": [
        "#Corroboramos valores nulos\n",
        "valores_nulos=data1.isnull().sum()\n",
        "valores_nulos"
      ],
      "metadata": {
        "id": "OPcxAr4QCoyq"
      },
      "execution_count": null,
      "outputs": []
    },
    {
      "cell_type": "code",
      "source": [
        "#Con este metodo sustituimos valores nulos por un string o un dato no numérico en concreto\n",
        "data1[\"284_additional_products_store\"]=data1[\"284_additional_products_store\"].fillna(\"no válido\")"
      ],
      "metadata": {
        "id": "5nyDIm_4Co13"
      },
      "execution_count": 133,
      "outputs": []
    },
    {
      "cell_type": "code",
      "source": [
        "#Corroboramos valores nulos\n",
        "valores_nulos=data1.isnull().sum()\n",
        "valores_nulos"
      ],
      "metadata": {
        "id": "oIIUgOcGC7bf"
      },
      "execution_count": null,
      "outputs": []
    },
    {
      "cell_type": "code",
      "source": [
        "#Con este metodos sustituimos los valores nulos que esten por detras de valores no nulos por ese mismo valor\n",
        "data1[\"305_electricity_bill_store\"]=data1[\"305_electricity_bill_store\"].fillna(method=\"bfill\")"
      ],
      "metadata": {
        "id": "AgimEInpC7d0"
      },
      "execution_count": 135,
      "outputs": []
    },
    {
      "cell_type": "code",
      "source": [
        "#Corroboramos valores nulos\n",
        "valores_nulos=data1.isnull().sum()\n",
        "valores_nulos"
      ],
      "metadata": {
        "id": "SK1yKYbYC7gN"
      },
      "execution_count": null,
      "outputs": []
    },
    {
      "cell_type": "code",
      "source": [
        "#Con este metodos sustituimos los valores nulos que esten por delante de valores no nulos por ese mismo valor\n",
        "data1[\"306_water_bill_store\"]=data1[\"306_water_bill_store\"].fillna(method=\"ffill\")"
      ],
      "metadata": {
        "id": "50Bw1dM8C7je"
      },
      "execution_count": 137,
      "outputs": []
    },
    {
      "cell_type": "code",
      "source": [
        "#Corroboramos valores nulos\n",
        "valores_nulos=data1.isnull().sum()\n",
        "valores_nulos"
      ],
      "metadata": {
        "id": "1dcr2mWPDC7Y"
      },
      "execution_count": null,
      "outputs": []
    },
    {
      "cell_type": "code",
      "source": [
        "#Con este metodo sustituimos valores nulos por un string o un dato no numérico en concreto\n",
        "data1[\"307_gas_bill_store\"]=data1[\"307_gas_bill_store\"].fillna(\"yes\")"
      ],
      "metadata": {
        "id": "CpwDBYOWDC9x"
      },
      "execution_count": 139,
      "outputs": []
    },
    {
      "cell_type": "code",
      "source": [
        "#Corroboramos valores nulos\n",
        "valores_nulos=data1.isnull().sum()\n",
        "valores_nulos"
      ],
      "metadata": {
        "id": "DcfruSe4DDAb"
      },
      "execution_count": null,
      "outputs": []
    },
    {
      "cell_type": "code",
      "source": [
        "#Con este metodos sustituimos los valores nulos que esten por detras de valores no nulos por ese mismo valor\n",
        "data1[\"308_topups_in_store\"]=data1[\"308_topups_in_store\"].fillna(method=\"bfill\")"
      ],
      "metadata": {
        "id": "rHIw3NWdDDDO"
      },
      "execution_count": 141,
      "outputs": []
    },
    {
      "cell_type": "code",
      "source": [
        "#Corroboramos valores nulos\n",
        "valores_nulos=data1.isnull().sum()\n",
        "valores_nulos"
      ],
      "metadata": {
        "id": "a_qq42McDHv2"
      },
      "execution_count": null,
      "outputs": []
    },
    {
      "cell_type": "code",
      "source": [
        "#Con este metodo sustituimos valores nulos por un string o un dato no numérico en concreto\n",
        "data1[\"309_wiretransfers_in_store\"]=data1[\"309_wiretransfers_in_store\"].fillna(\"no\")"
      ],
      "metadata": {
        "id": "Z5ZoUiU5DHzM"
      },
      "execution_count": 143,
      "outputs": []
    },
    {
      "cell_type": "code",
      "source": [
        "#Corroboramos valores nulos\n",
        "valores_nulos=data1.isnull().sum()\n",
        "valores_nulos"
      ],
      "metadata": {
        "id": "uzpffgHxDH1p"
      },
      "execution_count": null,
      "outputs": []
    },
    {
      "cell_type": "code",
      "source": [
        "#Con este metodos sustituimos los valores nulos que esten por delante de valores no nulos por ese mismo valor (se escogio este metodo ya que a pesar de tener muchos valores nulos, las respuestas que se tenían eran similares, por lo que podríamos decir que los valores nulos perfectamente pueden ser esos valores ya existentes)\n",
        "data1[\"304_additional_services_store\"]=data1[\"304_additional_services_store\"].fillna(method=\"bfill\")"
      ],
      "metadata": {
        "id": "sZygN3qgDH4W"
      },
      "execution_count": 160,
      "outputs": []
    },
    {
      "cell_type": "code",
      "source": [
        "#Corroboramos valores nulos\n",
        "valores_nulos=data1.isnull().sum()\n",
        "valores_nulos"
      ],
      "metadata": {
        "id": "-FbckKYGDH6t"
      },
      "execution_count": null,
      "outputs": []
    },
    {
      "cell_type": "code",
      "source": [
        "#Con este metodo sustituimos valores nulos por un string o un dato no numérico en concreto\n",
        "data1[\"storefront_picture_just_once_if_possible\"]=data1[\"storefront_picture_just_once_if_possible\"].fillna(\"no disponible\")"
      ],
      "metadata": {
        "id": "fUxj28fvDH9D"
      },
      "execution_count": 162,
      "outputs": []
    },
    {
      "cell_type": "code",
      "source": [
        "#Corroboramos valores nulos\n",
        "valores_nulos=data1.isnull().sum()\n",
        "valores_nulos"
      ],
      "metadata": {
        "id": "hfpxVFAGDNfL"
      },
      "execution_count": null,
      "outputs": []
    },
    {
      "cell_type": "code",
      "source": [
        "#Corroboramos valores nulos en todo el dataframe\n",
        "valores_nulos=data1.isnull().sum().sum()\n",
        "valores_nulos"
      ],
      "metadata": {
        "id": "4-bJCtuLDN4_"
      },
      "execution_count": null,
      "outputs": []
    },
    {
      "cell_type": "markdown",
      "source": [
        "**Reemplazo de Outliers**"
      ],
      "metadata": {
        "id": "XaGJ8CxNHaqm"
      }
    },
    {
      "cell_type": "code",
      "source": [
        "#Creamos otra copia del dataframe\n",
        "data2=data1.copy()"
      ],
      "metadata": {
        "id": "obBwVfssOoWI"
      },
      "execution_count": 165,
      "outputs": []
    },
    {
      "cell_type": "code",
      "source": [
        "#Realizamos un filtro por filas donde se incluyan unicamente los valores cuantitativos\n",
        "cuantitativas=data2.iloc[:,[12,26,27,28,29,30,31]] #filas no consecutivas\n",
        "cuantitativas"
      ],
      "metadata": {
        "id": "ukhCr93DOb1l"
      },
      "execution_count": null,
      "outputs": []
    },
    {
      "cell_type": "code",
      "source": [
        "#Realizamos un filtro por filas donde se incluyan unicamente los valores cualitativas\n",
        "cualitativas=data2.iloc[:,[1,2,3,4,5,6,7,8,9,10,11,13,14,15,16,17,18,19,20,21,22,23,24,25,32,33,34,35]] #filas no consecutivas\n",
        "cualitativas"
      ],
      "metadata": {
        "id": "QCXai22IQhob"
      },
      "execution_count": null,
      "outputs": []
    },
    {
      "cell_type": "code",
      "source": [
        "#Corroboramos valores nulos\n",
        "valores_nulos=cuantitativas.isnull().sum()\n",
        "valores_nulos"
      ],
      "metadata": {
        "id": "muS4KdfDHqmu"
      },
      "execution_count": null,
      "outputs": []
    },
    {
      "cell_type": "code",
      "source": [
        "#Aplicanmos desviación estandar para encontrar valores extremos\n",
        "y=cuantitativas\n",
        "Limite_Superior= y.mean() +3*y.std()\n",
        "Limite_Inferior= y.mean() -3*y.std()\n",
        "print(\"Limite superior permitido\", Limite_Superior)\n",
        "print(\"Limite inferior permitido\", Limite_Inferior)"
      ],
      "metadata": {
        "id": "gG4qxflbHxr_"
      },
      "execution_count": null,
      "outputs": []
    },
    {
      "cell_type": "code",
      "source": [
        "#Encontramos Outliers del Dataframe\n",
        "outliers= cuantitativas[(y>Limite_Superior)|(y<Limite_Inferior)]\n",
        "outliers"
      ],
      "metadata": {
        "colab": {
          "base_uri": "https://localhost:8080/",
          "height": 488
        },
        "id": "AJkX697NSo2k",
        "outputId": "c4ff2fae-f525-4357-9422-16c19559282a"
      },
      "execution_count": 197,
      "outputs": [
        {
          "output_type": "execute_result",
          "data": {
            "text/plain": [
              "     238_frequency_buying_store  81_number_online_purchases_month  \\\n",
              "0                           NaN                               NaN   \n",
              "1                           NaN                               NaN   \n",
              "2                           NaN                               NaN   \n",
              "3                           NaN                               NaN   \n",
              "4                           NaN                               NaN   \n",
              "..                          ...                               ...   \n",
              "110                         NaN                              15.0   \n",
              "111                         NaN                               NaN   \n",
              "112                         NaN                               NaN   \n",
              "113                         NaN                               NaN   \n",
              "114                         NaN                               NaN   \n",
              "\n",
              "     288_number_app_purchases_month  289_number_whatsapp_purchases_month  \\\n",
              "0                               NaN                                  NaN   \n",
              "1                               NaN                                  NaN   \n",
              "2                               NaN                                  NaN   \n",
              "3                               NaN                                  NaN   \n",
              "4                               NaN                                  NaN   \n",
              "..                              ...                                  ...   \n",
              "110                             NaN                                  NaN   \n",
              "111                             NaN                                  NaN   \n",
              "112                             NaN                                  NaN   \n",
              "113                             NaN                                  NaN   \n",
              "114                             NaN                                  NaN   \n",
              "\n",
              "     83_willingness_ultrafast_delivery  84_willingness_sameday_delivery  \\\n",
              "0                                  NaN                              NaN   \n",
              "1                                  NaN                              NaN   \n",
              "2                                  NaN                              NaN   \n",
              "3                                  NaN                              NaN   \n",
              "4                                  NaN                              NaN   \n",
              "..                                 ...                              ...   \n",
              "110                                NaN                              NaN   \n",
              "111                                NaN                              NaN   \n",
              "112                                NaN                              NaN   \n",
              "113                                NaN                              NaN   \n",
              "114                                NaN                           1000.0   \n",
              "\n",
              "     241_age_of_the_interviewee  \n",
              "0                           NaN  \n",
              "1                           NaN  \n",
              "2                           NaN  \n",
              "3                           NaN  \n",
              "4                           NaN  \n",
              "..                          ...  \n",
              "110                         NaN  \n",
              "111                         NaN  \n",
              "112                         NaN  \n",
              "113                         NaN  \n",
              "114                         NaN  \n",
              "\n",
              "[115 rows x 7 columns]"
            ],
            "text/html": [
              "\n",
              "  <div id=\"df-31aa7b3d-c369-4486-99e9-256680d7ca89\">\n",
              "    <div class=\"colab-df-container\">\n",
              "      <div>\n",
              "<style scoped>\n",
              "    .dataframe tbody tr th:only-of-type {\n",
              "        vertical-align: middle;\n",
              "    }\n",
              "\n",
              "    .dataframe tbody tr th {\n",
              "        vertical-align: top;\n",
              "    }\n",
              "\n",
              "    .dataframe thead th {\n",
              "        text-align: right;\n",
              "    }\n",
              "</style>\n",
              "<table border=\"1\" class=\"dataframe\">\n",
              "  <thead>\n",
              "    <tr style=\"text-align: right;\">\n",
              "      <th></th>\n",
              "      <th>238_frequency_buying_store</th>\n",
              "      <th>81_number_online_purchases_month</th>\n",
              "      <th>288_number_app_purchases_month</th>\n",
              "      <th>289_number_whatsapp_purchases_month</th>\n",
              "      <th>83_willingness_ultrafast_delivery</th>\n",
              "      <th>84_willingness_sameday_delivery</th>\n",
              "      <th>241_age_of_the_interviewee</th>\n",
              "    </tr>\n",
              "  </thead>\n",
              "  <tbody>\n",
              "    <tr>\n",
              "      <th>0</th>\n",
              "      <td>NaN</td>\n",
              "      <td>NaN</td>\n",
              "      <td>NaN</td>\n",
              "      <td>NaN</td>\n",
              "      <td>NaN</td>\n",
              "      <td>NaN</td>\n",
              "      <td>NaN</td>\n",
              "    </tr>\n",
              "    <tr>\n",
              "      <th>1</th>\n",
              "      <td>NaN</td>\n",
              "      <td>NaN</td>\n",
              "      <td>NaN</td>\n",
              "      <td>NaN</td>\n",
              "      <td>NaN</td>\n",
              "      <td>NaN</td>\n",
              "      <td>NaN</td>\n",
              "    </tr>\n",
              "    <tr>\n",
              "      <th>2</th>\n",
              "      <td>NaN</td>\n",
              "      <td>NaN</td>\n",
              "      <td>NaN</td>\n",
              "      <td>NaN</td>\n",
              "      <td>NaN</td>\n",
              "      <td>NaN</td>\n",
              "      <td>NaN</td>\n",
              "    </tr>\n",
              "    <tr>\n",
              "      <th>3</th>\n",
              "      <td>NaN</td>\n",
              "      <td>NaN</td>\n",
              "      <td>NaN</td>\n",
              "      <td>NaN</td>\n",
              "      <td>NaN</td>\n",
              "      <td>NaN</td>\n",
              "      <td>NaN</td>\n",
              "    </tr>\n",
              "    <tr>\n",
              "      <th>4</th>\n",
              "      <td>NaN</td>\n",
              "      <td>NaN</td>\n",
              "      <td>NaN</td>\n",
              "      <td>NaN</td>\n",
              "      <td>NaN</td>\n",
              "      <td>NaN</td>\n",
              "      <td>NaN</td>\n",
              "    </tr>\n",
              "    <tr>\n",
              "      <th>...</th>\n",
              "      <td>...</td>\n",
              "      <td>...</td>\n",
              "      <td>...</td>\n",
              "      <td>...</td>\n",
              "      <td>...</td>\n",
              "      <td>...</td>\n",
              "      <td>...</td>\n",
              "    </tr>\n",
              "    <tr>\n",
              "      <th>110</th>\n",
              "      <td>NaN</td>\n",
              "      <td>15.0</td>\n",
              "      <td>NaN</td>\n",
              "      <td>NaN</td>\n",
              "      <td>NaN</td>\n",
              "      <td>NaN</td>\n",
              "      <td>NaN</td>\n",
              "    </tr>\n",
              "    <tr>\n",
              "      <th>111</th>\n",
              "      <td>NaN</td>\n",
              "      <td>NaN</td>\n",
              "      <td>NaN</td>\n",
              "      <td>NaN</td>\n",
              "      <td>NaN</td>\n",
              "      <td>NaN</td>\n",
              "      <td>NaN</td>\n",
              "    </tr>\n",
              "    <tr>\n",
              "      <th>112</th>\n",
              "      <td>NaN</td>\n",
              "      <td>NaN</td>\n",
              "      <td>NaN</td>\n",
              "      <td>NaN</td>\n",
              "      <td>NaN</td>\n",
              "      <td>NaN</td>\n",
              "      <td>NaN</td>\n",
              "    </tr>\n",
              "    <tr>\n",
              "      <th>113</th>\n",
              "      <td>NaN</td>\n",
              "      <td>NaN</td>\n",
              "      <td>NaN</td>\n",
              "      <td>NaN</td>\n",
              "      <td>NaN</td>\n",
              "      <td>NaN</td>\n",
              "      <td>NaN</td>\n",
              "    </tr>\n",
              "    <tr>\n",
              "      <th>114</th>\n",
              "      <td>NaN</td>\n",
              "      <td>NaN</td>\n",
              "      <td>NaN</td>\n",
              "      <td>NaN</td>\n",
              "      <td>NaN</td>\n",
              "      <td>1000.0</td>\n",
              "      <td>NaN</td>\n",
              "    </tr>\n",
              "  </tbody>\n",
              "</table>\n",
              "<p>115 rows × 7 columns</p>\n",
              "</div>\n",
              "      <button class=\"colab-df-convert\" onclick=\"convertToInteractive('df-31aa7b3d-c369-4486-99e9-256680d7ca89')\"\n",
              "              title=\"Convert this dataframe to an interactive table.\"\n",
              "              style=\"display:none;\">\n",
              "        \n",
              "  <svg xmlns=\"http://www.w3.org/2000/svg\" height=\"24px\"viewBox=\"0 0 24 24\"\n",
              "       width=\"24px\">\n",
              "    <path d=\"M0 0h24v24H0V0z\" fill=\"none\"/>\n",
              "    <path d=\"M18.56 5.44l.94 2.06.94-2.06 2.06-.94-2.06-.94-.94-2.06-.94 2.06-2.06.94zm-11 1L8.5 8.5l.94-2.06 2.06-.94-2.06-.94L8.5 2.5l-.94 2.06-2.06.94zm10 10l.94 2.06.94-2.06 2.06-.94-2.06-.94-.94-2.06-.94 2.06-2.06.94z\"/><path d=\"M17.41 7.96l-1.37-1.37c-.4-.4-.92-.59-1.43-.59-.52 0-1.04.2-1.43.59L10.3 9.45l-7.72 7.72c-.78.78-.78 2.05 0 2.83L4 21.41c.39.39.9.59 1.41.59.51 0 1.02-.2 1.41-.59l7.78-7.78 2.81-2.81c.8-.78.8-2.07 0-2.86zM5.41 20L4 18.59l7.72-7.72 1.47 1.35L5.41 20z\"/>\n",
              "  </svg>\n",
              "      </button>\n",
              "      \n",
              "  <style>\n",
              "    .colab-df-container {\n",
              "      display:flex;\n",
              "      flex-wrap:wrap;\n",
              "      gap: 12px;\n",
              "    }\n",
              "\n",
              "    .colab-df-convert {\n",
              "      background-color: #E8F0FE;\n",
              "      border: none;\n",
              "      border-radius: 50%;\n",
              "      cursor: pointer;\n",
              "      display: none;\n",
              "      fill: #1967D2;\n",
              "      height: 32px;\n",
              "      padding: 0 0 0 0;\n",
              "      width: 32px;\n",
              "    }\n",
              "\n",
              "    .colab-df-convert:hover {\n",
              "      background-color: #E2EBFA;\n",
              "      box-shadow: 0px 1px 2px rgba(60, 64, 67, 0.3), 0px 1px 3px 1px rgba(60, 64, 67, 0.15);\n",
              "      fill: #174EA6;\n",
              "    }\n",
              "\n",
              "    [theme=dark] .colab-df-convert {\n",
              "      background-color: #3B4455;\n",
              "      fill: #D2E3FC;\n",
              "    }\n",
              "\n",
              "    [theme=dark] .colab-df-convert:hover {\n",
              "      background-color: #434B5C;\n",
              "      box-shadow: 0px 1px 3px 1px rgba(0, 0, 0, 0.15);\n",
              "      filter: drop-shadow(0px 1px 2px rgba(0, 0, 0, 0.3));\n",
              "      fill: #FFFFFF;\n",
              "    }\n",
              "  </style>\n",
              "\n",
              "      <script>\n",
              "        const buttonEl =\n",
              "          document.querySelector('#df-31aa7b3d-c369-4486-99e9-256680d7ca89 button.colab-df-convert');\n",
              "        buttonEl.style.display =\n",
              "          google.colab.kernel.accessAllowed ? 'block' : 'none';\n",
              "\n",
              "        async function convertToInteractive(key) {\n",
              "          const element = document.querySelector('#df-31aa7b3d-c369-4486-99e9-256680d7ca89');\n",
              "          const dataTable =\n",
              "            await google.colab.kernel.invokeFunction('convertToInteractive',\n",
              "                                                     [key], {});\n",
              "          if (!dataTable) return;\n",
              "\n",
              "          const docLinkHtml = 'Like what you see? Visit the ' +\n",
              "            '<a target=\"_blank\" href=https://colab.research.google.com/notebooks/data_table.ipynb>data table notebook</a>'\n",
              "            + ' to learn more about interactive tables.';\n",
              "          element.innerHTML = '';\n",
              "          dataTable['output_type'] = 'display_data';\n",
              "          await google.colab.output.renderOutput(dataTable, element);\n",
              "          const docLink = document.createElement('div');\n",
              "          docLink.innerHTML = docLinkHtml;\n",
              "          element.appendChild(docLink);\n",
              "        }\n",
              "      </script>\n",
              "    </div>\n",
              "  </div>\n",
              "  "
            ]
          },
          "metadata": {},
          "execution_count": 197
        }
      ]
    },
    {
      "cell_type": "code",
      "source": [
        "#Obtenemos datos limpios\n",
        "data3= cuantitativas[(y<=Limite_Superior)&(y>=Limite_Inferior)]\n",
        "data3"
      ],
      "metadata": {
        "id": "N9ZQqYjJS-sm"
      },
      "execution_count": null,
      "outputs": []
    },
    {
      "cell_type": "code",
      "source": [
        "#Reemplazamos valores atípicos (nulos) del dataframe4\n",
        "valores_nulos=data3.isnull().sum()\n",
        "valores_nulos"
      ],
      "metadata": {
        "colab": {
          "base_uri": "https://localhost:8080/"
        },
        "id": "Pzk2A9tsTLX1",
        "outputId": "495173c0-37f8-491f-e8a9-cd6c9dae5c88"
      },
      "execution_count": 195,
      "outputs": [
        {
          "output_type": "execute_result",
          "data": {
            "text/plain": [
              "238_frequency_buying_store             2\n",
              "81_number_online_purchases_month       2\n",
              "288_number_app_purchases_month         1\n",
              "289_number_whatsapp_purchases_month    1\n",
              "83_willingness_ultrafast_delivery      2\n",
              "84_willingness_sameday_delivery        2\n",
              "241_age_of_the_interviewee             1\n",
              "dtype: int64"
            ]
          },
          "metadata": {},
          "execution_count": 195
        }
      ]
    },
    {
      "cell_type": "code",
      "source": [
        "#Reemplazamos valores atípicos (nulos) del dataframe con \"mean\"\n",
        "#Realizamos una copia del dataframe\n",
        "data_clean=data3.copy()\n",
        "data_clean=data_clean.fillna(round(data3.mean(),1))\n",
        "data_clean"
      ],
      "metadata": {
        "id": "xjlT2Q9GTRYr"
      },
      "execution_count": null,
      "outputs": []
    },
    {
      "cell_type": "code",
      "source": [
        "#Corroboramos valores nulos del dataframe LIMPIO\n",
        "valores_nulos=data_clean.isnull().sum()\n",
        "valores_nulos"
      ],
      "metadata": {
        "id": "h8dyBQlpTXfQ"
      },
      "execution_count": null,
      "outputs": []
    },
    {
      "cell_type": "code",
      "source": [
        "#Unimos las columnas cuantitativas y cualitativas en un mismo dataframe\n",
        "Datos_limpios = pd.concat([cualitativas, data_clean], axis=1)\n",
        "Datos_limpios"
      ],
      "metadata": {
        "id": "lU3qgbnJTgzp"
      },
      "execution_count": null,
      "outputs": []
    },
    {
      "cell_type": "code",
      "source": [
        "#Convertir Dataframe a CSV\n",
        "Datos_limpios.to_csv(\"Datos_limpios_Consumer.csv\")"
      ],
      "metadata": {
        "id": "rFDzRmbhTdf8"
      },
      "execution_count": 190,
      "outputs": []
    },
    {
      "cell_type": "code",
      "source": [
        "#descargar archivo filtrado en csv\n",
        "from google.colab import files\n",
        "\n",
        "files.download(\"Datos_limpios_Consumer.csv\")"
      ],
      "metadata": {
        "colab": {
          "base_uri": "https://localhost:8080/",
          "height": 17
        },
        "id": "uLoMZdhzT3vE",
        "outputId": "602d59d2-f027-43aa-c56f-2faeba77c60c"
      },
      "execution_count": 191,
      "outputs": [
        {
          "output_type": "display_data",
          "data": {
            "text/plain": [
              "<IPython.core.display.Javascript object>"
            ],
            "application/javascript": [
              "\n",
              "    async function download(id, filename, size) {\n",
              "      if (!google.colab.kernel.accessAllowed) {\n",
              "        return;\n",
              "      }\n",
              "      const div = document.createElement('div');\n",
              "      const label = document.createElement('label');\n",
              "      label.textContent = `Downloading \"${filename}\": `;\n",
              "      div.appendChild(label);\n",
              "      const progress = document.createElement('progress');\n",
              "      progress.max = size;\n",
              "      div.appendChild(progress);\n",
              "      document.body.appendChild(div);\n",
              "\n",
              "      const buffers = [];\n",
              "      let downloaded = 0;\n",
              "\n",
              "      const channel = await google.colab.kernel.comms.open(id);\n",
              "      // Send a message to notify the kernel that we're ready.\n",
              "      channel.send({})\n",
              "\n",
              "      for await (const message of channel.messages) {\n",
              "        // Send a message to notify the kernel that we're ready.\n",
              "        channel.send({})\n",
              "        if (message.buffers) {\n",
              "          for (const buffer of message.buffers) {\n",
              "            buffers.push(buffer);\n",
              "            downloaded += buffer.byteLength;\n",
              "            progress.value = downloaded;\n",
              "          }\n",
              "        }\n",
              "      }\n",
              "      const blob = new Blob(buffers, {type: 'application/binary'});\n",
              "      const a = document.createElement('a');\n",
              "      a.href = window.URL.createObjectURL(blob);\n",
              "      a.download = filename;\n",
              "      div.appendChild(a);\n",
              "      a.click();\n",
              "      div.remove();\n",
              "    }\n",
              "  "
            ]
          },
          "metadata": {}
        },
        {
          "output_type": "display_data",
          "data": {
            "text/plain": [
              "<IPython.core.display.Javascript object>"
            ],
            "application/javascript": [
              "download(\"download_24efff99-3c42-4157-b6c6-e4328e3b4812\", \"Datos_limpios_Consumer.csv\", 51106)"
            ]
          },
          "metadata": {}
        }
      ]
    }
  ]
}